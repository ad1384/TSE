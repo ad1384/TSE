{
 "cells": [
  {
   "cell_type": "markdown",
   "metadata": {
    "heading_collapsed": true
   },
   "source": [
    "# WEB DRIVER AND GET WEBSITE"
   ]
  },
  {
   "cell_type": "code",
   "execution_count": 4,
   "metadata": {
    "hidden": true
   },
   "outputs": [],
   "source": [
    "\n",
    "from bs4 import BeautifulSoup\n",
    "import requests\n",
    "from selenium import webdriver\n",
    "\n",
    "# from selenium.webdriver.common.by import By\n",
    "from selenium.webdriver.common.keys import Keys\n",
    "# from selenium.webdriver.chrome.options import Options\n",
    "chrom_path=r\"D:\\Software\\ChromDriver\\chromedriver85.exe\"\n",
    "driver=webdriver.Chrome(chrom_path)\n",
    "# chrome_options = Options()  \n",
    "chrome_options=webdriver.ChromeOptions()\n",
    "# chrome_options.add_argument(\"--no-startup-window\") \n",
    "# chrome_options.add_argument(\"--headless\")\n",
    "# chrome_options.add_argument(\"--window-size=%s\" % WINDOW_SIZE)\n",
    "# chrome_options.add_argument('window-size=0x0')\n",
    "# options.add_argument('--disable-gpu') \n",
    "# chrome_options.binary_location = CHROME_PATH\n",
    "#driver=webdriver.Chrome(chrome_options=chrome_options)\n",
    "# driver=webdriver.Chrome(options=chrome_options)\n",
    "driver.get('http://www.tsetmc.com/Loader.aspx?ParTree=15131F#')\n",
    "# link=driver.find_element(By.CSS_SELECTOR, \"TopIcon MwIcon MwQuery\").get_attribute('innerHTML')\n",
    "# حقیقی حقوقی \n",
    "driver.execute_script(\"mw.Settings.LoadClientType=1-mw.Settings.LoadClientType;mw.SaveParams();HideAllWindow();mw.LoadClientType();\");\n",
    "#آمار کلیدی\n",
    "driver.execute_script(\"mw.Settings.LoadInstStat=1-mw.Settings.LoadInstStat;mw.SaveParams();HideAllWindow();mw.LoadInstStat();\");\n",
    "#تاریخچه قیمتی\n",
    "driver.execute_script(\"mw.Settings.LoadInstHistory=1-mw.Settings.LoadInstHistory;mw.SaveParams();HideAllWindow();mw.LoadInstHistory();\");\n"
   ]
  },
  {
   "cell_type": "markdown",
   "metadata": {
    "heading_collapsed": true
   },
   "source": [
    "# FIND TEXT FIELD "
   ]
  },
  {
   "cell_type": "code",
   "execution_count": 5,
   "metadata": {
    "hidden": true
   },
   "outputs": [],
   "source": [
    "# GO TO TEXTFIELD\n",
    "link=driver.find_element_by_css_selector(\".MwQuery\")\n",
    "link.click()\n",
    "link1=driver.find_element_by_css_selector(\".awesome.black\")\n",
    "link1.click()\n",
    "link2=driver.find_element_by_css_selector(\".awesome.tra\")\n",
    "link2.click()\n",
    "# link3=driver.find_element_by_css_selector(\".awesome.blue\")\t\t\n",
    "# link3.click()\n"
   ]
  },
  {
   "cell_type": "code",
   "execution_count": 6,
   "metadata": {
    "hidden": true
   },
   "outputs": [],
   "source": [
    "# CLEAR TEXT FIELD\n",
    "# driver.execute_script(\"mw.SelectFilter(0);mw.ShowSettings();mw.SaveParams();mw.QueryWindowFilterNames();\")\n",
    "# r=driver.execute_script(\"return document.documentElement.outerHTML\")\n",
    "def cleartextfld():\n",
    "    textfield=driver.find_element_by_id(\"InputFilterCode\")\n",
    "    textfield.send_keys(Keys.DELETE)\n",
    "    textfield.clear()\n",
    "\n"
   ]
  },
  {
   "cell_type": "markdown",
   "metadata": {},
   "source": [
    "# FILTER OPTION"
   ]
  },
  {
   "cell_type": "code",
   "execution_count": 35,
   "metadata": {},
   "outputs": [],
   "source": [
    "# CREATE FILTER OPTION\n",
    "import pandas as pd\n",
    "from IPython.display import display\n",
    "from ipywidgets import widgets\n",
    "df=pd.read_excel('FilterTbl.xlsx')\n",
    "filtercode=''\n",
    "filtername=''\n",
    "option=[]\n",
    "style = {'backgrond_color': 'red'}\n",
    "\n",
    "for filn in df['filterName']:\n",
    "    option.append(filn)\n",
    "\n",
    "choose_Filter = widgets.Dropdown(layout={'width': 'max-content'},\n",
    "    options=df['filterName'],    \n",
    "    description='Filter Name:', style=style               \n",
    "                    \n",
    ")\n",
    "def GetFilterCode(s):\n",
    "    if s:\n",
    "        fkey=df[df['filterName']==s]['filterCode']\n",
    "        return fkey.values[0]\n",
    "    else:        \n",
    "        return 'ALL FIELD LEAVED EMPTY{}'\n",
    "        \n",
    "             \n",
    "\n",
    "# display(choose_Filter)\n",
    "# s=widgets.interactive(GetFilterCode,s=choose_Filter)  \n"
   ]
  },
  {
   "cell_type": "code",
   "execution_count": 9,
   "metadata": {},
   "outputs": [],
   "source": [
    "# GET DATA FUNCTION\n",
    "\n",
    "import re\n",
    "import pandas as pd\n",
    "from plotly.offline import iplot\n",
    "import cufflinks as cf\n",
    "\n",
    "def getdata():\n",
    "    driver.execute_script(\"mw.QueryWindowSaveFilter();\")\n",
    "    r=driver.execute_script(\"return document.documentElement.outerHTML\")\n",
    "#     print(r.count)\n",
    "    soup=BeautifulSoup(r,'lxml')\n",
    "    alldiv=soup.find_all('div',{'class':'{c}'})\n",
    "    market={\"stock\":[],\"name\":[],\"No\":[],\"volume\":[],\"value\":[],\"yes\":[],\"last\":[],\"close\":[],\"low\":[],\"high\":[],\"eps\":[],\"pe\":[],\"open\":[]}\n",
    "    for a in alldiv:    \n",
    "        market[\"stock\"].append(a.find_all('div',{'class':'t0c t0c1'})[0].text ) \n",
    "        market[\"name\"].append(a.find_all('div',{'class':'t0c t0c1'})[1].text)    \n",
    "        market[\"No\"].append(a.find_all('div',{'t0c5 ch0'})[0].text)\n",
    "        market[\"volume\"].append(a.find_all('div',{'t0c5 ch0'})[1].text)\n",
    "        market[\"value\"].append(a.find_all('div',{'t0c5 ch0'})[2].text)\n",
    "        market[\"yes\"].append(a.find_all('div',{'t0c5'})[3].text)\n",
    "        market[\"last\"].append(a.find_all('div',{'t0c t0c2 ch0'})[0].text)\n",
    "        market[\"close\"].append(a.find_all('div',{'t0c ch0'})[0].text)\n",
    "        market[\"low\"].append(a.find_all('div',{'t0c5 ch0'})[3].text)\n",
    "        market[\"high\"].append(a.find_all('div',{'t0c5 ch0'})[4].text)\n",
    "        market[\"eps\"].append(a.find_all('div',{'t0c5 ch0'})[5].text)\n",
    "        market[\"pe\"].append(a.find_all('div',{'t0c ch0'})[3].text)\n",
    "        market[\"open\"].append(a.find_all('div',{'t0c5 ch{_pf}'})[0].text)\n",
    "\n",
    "    #     market[\"name\"].append(a.find_all('div',{'class':'t0c t0c1'})[4].text)\n",
    "    #     market[\"name\"].append(a.find_all('div',{'class':'t0c t0c1'})[5].text)\n",
    "\n",
    "    df=pd.DataFrame(market)\n",
    "    return df\n",
    "\n",
    "    \n",
    "#     \tprint (a.find_all('div',{'class':'t0c t0c1'})[0].text + \"--\" + \n",
    "#           a.find_all('div',{'class':'t0c t0c1'})[1].text )\n",
    "\n",
    "# vl=pd.to_numeric(df.volume.str.replace('M','000000'))\n",
    "# cl=pd.to_numeric(df.close.str.replace(',',''))\n",
    "# op=pd.to_numeric(df.open.str.replace(',',''))\n",
    "# lw=pd.to_numeric(df.low.str.replace(',',''))\n",
    "# hi=pd.to_numeric(df.high.str.replace(',',''))\n",
    "\n",
    "# qf=cf.QuantFig(df,title='First Quant Figure',legend='top',name='GS')\n",
    "# iplot(qf.iplot(asFigure=True))\n"
   ]
  },
  {
   "cell_type": "markdown",
   "metadata": {},
   "source": [
    "# CREATE COSTUM FILTER"
   ]
  },
  {
   "cell_type": "code",
   "execution_count": 67,
   "metadata": {
    "scrolled": true
   },
   "outputs": [
    {
     "ename": "UnboundLocalError",
     "evalue": "local variable 'filtername' referenced before assignment",
     "output_type": "error",
     "traceback": [
      "\u001b[1;31m---------------------------------------------------------------------------\u001b[0m",
      "\u001b[1;31mUnboundLocalError\u001b[0m                         Traceback (most recent call last)",
      "\u001b[1;32m<ipython-input-67-ef1a51fbd4b3>\u001b[0m in \u001b[0;36m<module>\u001b[1;34m\u001b[0m\n\u001b[0;32m     18\u001b[0m \u001b[1;32mif\u001b[0m \u001b[0ms\u001b[0m\u001b[1;33m[\u001b[0m\u001b[1;36m3\u001b[0m\u001b[1;33m]\u001b[0m\u001b[1;33m==\u001b[0m\u001b[1;34m'&'\u001b[0m\u001b[1;33m:\u001b[0m\u001b[1;33m\u001b[0m\u001b[1;33m\u001b[0m\u001b[0m\n\u001b[0;32m     19\u001b[0m     \u001b[0mtkinterforms\u001b[0m\u001b[1;33m(\u001b[0m\u001b[1;33m)\u001b[0m\u001b[1;33m.\u001b[0m\u001b[0mCreateComboFunc\u001b[0m\u001b[1;33m(\u001b[0m\u001b[1;36m3\u001b[0m\u001b[1;33m,\u001b[0m\u001b[0moption\u001b[0m\u001b[1;33m)\u001b[0m\u001b[1;33m\u001b[0m\u001b[1;33m\u001b[0m\u001b[0m\n\u001b[1;32m---> 20\u001b[1;33m     \u001b[0mrunflt\u001b[0m\u001b[1;33m(\u001b[0m\u001b[1;33m)\u001b[0m\u001b[1;33m\u001b[0m\u001b[1;33m\u001b[0m\u001b[0m\n\u001b[0m\u001b[0;32m     21\u001b[0m \u001b[1;32melse\u001b[0m\u001b[1;33m:\u001b[0m\u001b[1;33m\u001b[0m\u001b[1;33m\u001b[0m\u001b[0m\n\u001b[0;32m     22\u001b[0m     \u001b[0mprint\u001b[0m\u001b[1;33m(\u001b[0m\u001b[1;34m'find stop'\u001b[0m\u001b[1;33m)\u001b[0m\u001b[1;33m\u001b[0m\u001b[1;33m\u001b[0m\u001b[0m\n",
      "\u001b[1;32m<ipython-input-67-ef1a51fbd4b3>\u001b[0m in \u001b[0;36mrunflt\u001b[1;34m()\u001b[0m\n\u001b[0;32m      9\u001b[0m         \u001b[0mtextfield\u001b[0m\u001b[1;33m.\u001b[0m\u001b[0msend_keys\u001b[0m\u001b[1;33m(\u001b[0m\u001b[0mGetFilterCode\u001b[0m\u001b[1;33m(\u001b[0m\u001b[0ms\u001b[0m\u001b[1;33m[\u001b[0m\u001b[1;36m0\u001b[0m\u001b[1;33m]\u001b[0m\u001b[1;33m)\u001b[0m\u001b[1;33m.\u001b[0m\u001b[0mformat\u001b[0m\u001b[1;33m(\u001b[0m\u001b[0ms\u001b[0m\u001b[1;33m[\u001b[0m\u001b[1;36m1\u001b[0m\u001b[1;33m]\u001b[0m\u001b[1;33m)\u001b[0m\u001b[1;33m+\u001b[0m\u001b[0ms\u001b[0m\u001b[1;33m[\u001b[0m\u001b[1;36m2\u001b[0m\u001b[1;33m]\u001b[0m\u001b[1;33m+\u001b[0m\u001b[0ms\u001b[0m\u001b[1;33m[\u001b[0m\u001b[1;36m3\u001b[0m\u001b[1;33m]\u001b[0m\u001b[1;33m)\u001b[0m\u001b[1;33m\u001b[0m\u001b[1;33m\u001b[0m\u001b[0m\n\u001b[0;32m     10\u001b[0m         \u001b[0mnum\u001b[0m\u001b[1;33m=\u001b[0m\u001b[0mre\u001b[0m\u001b[1;33m.\u001b[0m\u001b[0mfindall\u001b[0m\u001b[1;33m(\u001b[0m\u001b[1;34mr'\\d+'\u001b[0m\u001b[1;33m,\u001b[0m \u001b[0ms\u001b[0m\u001b[1;33m[\u001b[0m\u001b[1;36m2\u001b[0m\u001b[1;33m]\u001b[0m\u001b[1;33m)\u001b[0m\u001b[1;33m\u001b[0m\u001b[1;33m\u001b[0m\u001b[0m\n\u001b[1;32m---> 11\u001b[1;33m         \u001b[0mfiltername\u001b[0m\u001b[1;33m+=\u001b[0m\u001b[1;34m\"\\033[40m\"\u001b[0m\u001b[1;33m+\u001b[0m\u001b[0ms\u001b[0m\u001b[1;33m[\u001b[0m\u001b[1;36m0\u001b[0m\u001b[1;33m]\u001b[0m\u001b[1;33m.\u001b[0m\u001b[0mformat\u001b[0m\u001b[1;33m(\u001b[0m\u001b[0ms\u001b[0m\u001b[1;33m[\u001b[0m\u001b[1;36m1\u001b[0m\u001b[1;33m]\u001b[0m\u001b[1;33m)\u001b[0m\u001b[1;33m+\u001b[0m\u001b[1;34m' {0:,}'\u001b[0m\u001b[1;33m.\u001b[0m\u001b[0mformat\u001b[0m\u001b[1;33m(\u001b[0m\u001b[0mint\u001b[0m\u001b[1;33m(\u001b[0m\u001b[0mnum\u001b[0m\u001b[1;33m[\u001b[0m\u001b[1;36m0\u001b[0m\u001b[1;33m]\u001b[0m\u001b[1;33m)\u001b[0m\u001b[1;33m)\u001b[0m\u001b[1;33m+\u001b[0m\u001b[1;34m\"\\033[30m\"\u001b[0m\u001b[1;33m\u001b[0m\u001b[1;33m\u001b[0m\u001b[0m\n\u001b[0m\u001b[0;32m     12\u001b[0m         \u001b[0mprint\u001b[0m\u001b[1;33m(\u001b[0m\u001b[0mfiltername\u001b[0m\u001b[1;33m)\u001b[0m\u001b[1;33m\u001b[0m\u001b[1;33m\u001b[0m\u001b[0m\n\u001b[0;32m     13\u001b[0m         \u001b[0mdriver\u001b[0m\u001b[1;33m.\u001b[0m\u001b[0mexecute_script\u001b[0m\u001b[1;33m(\u001b[0m\u001b[1;34m'mw.QueryWindowSaveFilter()'\u001b[0m\u001b[1;33m)\u001b[0m\u001b[1;33m\u001b[0m\u001b[1;33m\u001b[0m\u001b[0m\n",
      "\u001b[1;31mUnboundLocalError\u001b[0m: local variable 'filtername' referenced before assignment"
     ]
    }
   ],
   "source": [
    "import re\n",
    "from tkinter_frm import tkinterforms\n",
    "from colorama import Fore, Back, Style\n",
    "# cleartextfld()\n",
    "\n",
    "def runflt():    \n",
    "    if s and s[0]!=\"\"  and s[1]!=\"\" and s[1]!=\"\" and s[3]!=\"\" :    \n",
    "        textfield=driver.find_element_by_id(\"InputFilterCode\")\n",
    "        textfield.send_keys(GetFilterCode(s[0]).format(s[1])+s[2]+s[3])\n",
    "        num=re.findall(r'\\d+', s[2])\n",
    "        filtername+=\"\\033[40m\"+s[0].format(s[1])+' {0:,}'.format(int(num[0]))+\"\\033[30m\" \n",
    "        print(filtername)\n",
    "        driver.execute_script('mw.QueryWindowSaveFilter()')\n",
    "        getdata()\n",
    "    else:\n",
    "        print('')\n",
    "s=tkinterforms().CreateComboFunc(3,option)\n",
    "if s[3]=='&':\n",
    "    tkinterforms().CreateComboFunc(3,option)\n",
    "    runflt()\n",
    "else:\n",
    "    print('find stop') \n",
    "\n",
    "# print (\" \"+ \"\\033[01;41m\" + \" \" +\"\\033[01;46m\" + \" \" + \"\\033[01;42m\")"
   ]
  },
  {
   "cell_type": "markdown",
   "metadata": {
    "heading_collapsed": true
   },
   "source": [
    "# PLOTING"
   ]
  },
  {
   "cell_type": "code",
   "execution_count": 183,
   "metadata": {
    "hidden": true,
    "scrolled": true
   },
   "outputs": [
    {
     "data": {
      "image/png": "[encoded data removed]",
      "text/plain": [
       "<Figure size 432x288 with 1 Axes>"
      ]
     },
     "metadata": {
      "needs_background": "light"
     },
     "output_type": "display_data"
    }
   ],
   "source": [
    "# driver.quit()\n",
    "%matplotlib inline\n",
    "from bidi.algorithm import get_display\n",
    "import arabic_reshaper\n",
    "import matplotlib.pyplot as plt\n",
    "import matplotlib.font_manager\n",
    "\n",
    "# df.loc[df['volume'].str.contains('M'),'volume']='1000'\n",
    "df['volume']= df.volume.str.replace(',','')\n",
    "df['volume']= df.volume.str.replace('M','000000')\n",
    "df['volume']= df.volume.str.replace('B','000000000')    \n",
    "    \n",
    "vl=pd.to_numeric(df['volume'])\n",
    "cl=pd.to_numeric(df.close.str.replace(',',''))\n",
    "# op=pd.to_numeric(df.open.str.replace(',',''))\n",
    "# lw=pd.to_numeric(df.low.str.replace(',',''))\n",
    "# hi=pd.to_numeric(df.high.str.replace(',',''))\n",
    "# matplotlib.font_manager.findSystemFonts(fontpaths=None, fontext='ttf')\n",
    "# plt.rcParams['font.family']='BNazanin'\n",
    "# plt.rcParams['font.size']=14\n",
    "changedname=[]\n",
    "for a in df['stock']:\n",
    "    reshaped_text = arabic_reshaper.reshape(a)\n",
    "    changedname.append(get_display(reshaped_text))\n",
    "#     df['stock']=get_display(reshaped_text)\n",
    "plt.plot(changedname,vl) \n",
    "plt.xticks(changedname, rotation=45)  \n",
    "plt.show()\n"
   ]
  }
 ],
 "metadata": {
  "hide_input": false,
  "kernelspec": {
   "display_name": "Python 3",
   "language": "python",
   "name": "python3"
  },
  "language_info": {
   "codemirror_mode": {
    "name": "ipython",
    "version": 3
   },
   "file_extension": ".py",
   "mimetype": "text/x-python",
   "name": "python",
   "nbconvert_exporter": "python",
   "pygments_lexer": "ipython3",
   "version": "3.7.1"
  },
  "toc": {
   "base_numbering": 1,
   "nav_menu": {},
   "number_sections": true,
   "sideBar": true,
   "skip_h1_title": false,
   "title_cell": "Table of Contents",
   "title_sidebar": "Contents",
   "toc_cell": false,
   "toc_position": {},
   "toc_section_display": true,
   "toc_window_display": false
  }
 },
 "nbformat": 4,
 "nbformat_minor": 2
}
